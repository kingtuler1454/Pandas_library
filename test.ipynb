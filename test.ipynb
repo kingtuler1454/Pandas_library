{
 "cells": [
  {
   "cell_type": "code",
   "execution_count": 65,
   "metadata": {},
   "outputs": [],
   "source": [
    "import pandas as pd\n",
    "from tqdm import trange\n",
    "import pymorphy2\n",
    "import matplotlib.pyplot as plt\n",
    "\n",
    "import iterator"
   ]
  },
  {
   "cell_type": "markdown",
   "metadata": {},
   "source": [
    "С использованием средств библиотеки Pandas прочитать все данные (в DataFrame будет несколько столбцов, в зависимости от варианта, например, у варианта 10 - Количество звезд, Текст рецензии)."
   ]
  },
  {
   "cell_type": "code",
   "execution_count": 66,
   "metadata": {},
   "outputs": [
    {
     "name": "stderr",
     "output_type": "stream",
     "text": [
      "100%|██████████| 1840/1840 [00:44<00:00, 41.59it/s]\n",
      "100%|██████████| 540/540 [00:11<00:00, 45.37it/s]\n",
      "100%|██████████| 420/420 [00:09<00:00, 44.11it/s]\n",
      "100%|██████████| 340/340 [00:07<00:00, 46.43it/s]\n",
      "100%|██████████| 660/660 [00:14<00:00, 46.18it/s]\n"
     ]
    }
   ],
   "source": [
    "def create_table()-> pd.DataFrame:\n",
    "    \"\"\"create a df\"\"\"\n",
    "    number_star = []\n",
    "    text_opinion = []\n",
    "    for i in range(1,6):\n",
    "        iterator_work = iterator.Iterator(\"classmates1.csv\", i)\n",
    "        for j in trange(len(iterator.Iterator(\"classmates1.csv\", i).list)):\n",
    "            number_star.append(i)\n",
    "            text_opinion.append(read_file(iterator.Iterator(\"classmates1.csv\", i).list[j]))\n",
    "    df = pd.DataFrame({\n",
    "    'star': number_star,\n",
    "    'text': text_opinion})\n",
    "    return df\n",
    "\n",
    "\n",
    "def read_file(elem: str)->str:\n",
    "    \"\"\"\"reading a data from csv\"\"\"\n",
    "    if elem != \"['Абсолютный путь к файлу,Относительный путь к файлу,номер звезды']\":\n",
    "        directory = str(elem).split(\",\")\n",
    "        #print(len(directory))\n",
    "        if len(directory) == 3:\n",
    "            with open(directory[1], \"r\") as f:\n",
    "                text = f.read()\n",
    "            \n",
    "            return text     \n",
    "    return None\n",
    "\n",
    "\n",
    "df=create_table()"
   ]
  },
  {
   "cell_type": "markdown",
   "metadata": {},
   "source": [
    "Произвести проверку на наличие невалидных значений в колонках (NaN, None и т.п.). В случае нахождения выполнить обработку таких значений."
   ]
  },
  {
   "cell_type": "code",
   "execution_count": 67,
   "metadata": {},
   "outputs": [
    {
     "name": "stdout",
     "output_type": "stream",
     "text": [
      "checking\n",
      "<class 'pandas.core.frame.DataFrame'>\n",
      "Int64Index: 3800 entries, 0 to 3799\n",
      "Data columns (total 2 columns):\n",
      " #   Column  Non-Null Count  Dtype \n",
      "---  ------  --------------  ----- \n",
      " 0   star    3800 non-null   int64 \n",
      " 1   text    3800 non-null   object\n",
      "dtypes: int64(1), object(1)\n",
      "memory usage: 89.1+ KB\n",
      "None\n"
     ]
    }
   ],
   "source": [
    "def check_table(df:pd.DataFrame)->None:\n",
    "    \"\"\"check table to correct value\"\"\"\n",
    "    print(\"checking\")\n",
    "    df=df.dropna()\n",
    "    print(df.info())\n",
    "    return df\n",
    "df=check_table(df)\n"
   ]
  },
  {
   "cell_type": "markdown",
   "metadata": {},
   "source": [
    "Добавить в DataFrame столбец, который будет содержать информацию о кол-ве слов в ячейке, содержащей текстовую информацию."
   ]
  },
  {
   "cell_type": "code",
   "execution_count": 68,
   "metadata": {},
   "outputs": [
    {
     "name": "stdout",
     "output_type": "stream",
     "text": [
      "add_column\n"
     ]
    },
    {
     "name": "stderr",
     "output_type": "stream",
     "text": [
      "100%|██████████| 3800/3800 [00:00<00:00, 18735.09it/s]\n"
     ]
    }
   ],
   "source": [
    "def add_column(df)-> pd.DataFrame:\n",
    "    \"\"\"add_column in df \"\"\"\n",
    "    print(\"add_column\")\n",
    "    number_symbols_text = []\n",
    "    for i in trange(len(df)):\n",
    "        number_symbols_text.append(len(df.text[i]))\n",
    "\n",
    "    df.insert(2, \"len_text\", number_symbols_text, False)\n",
    "    return df\n",
    "df=add_column(df)"
   ]
  },
  {
   "cell_type": "markdown",
   "metadata": {},
   "source": [
    "С использованием Pandas вычислить статистическую информацию для столбцов, содержащих числовую информацию."
   ]
  },
  {
   "cell_type": "code",
   "execution_count": 69,
   "metadata": {},
   "outputs": [
    {
     "name": "stdout",
     "output_type": "stream",
     "text": [
      "              star     len_text\n",
      "count  3800.000000  3800.000000\n",
      "mean      2.326316   370.025263\n",
      "std       1.552399    71.258062\n",
      "min       1.000000   157.000000\n",
      "25%       1.000000   325.000000\n",
      "50%       2.000000   361.000000\n",
      "75%       4.000000   406.000000\n",
      "max       5.000000   844.000000\n"
     ]
    }
   ],
   "source": [
    "def statistic(df: pd.DataFrame)-> None:\n",
    "    \"\"\"statistic in star\"\"\"\n",
    "    print(df.describe())\n",
    "\n",
    "statistic(df)"
   ]
  },
  {
   "cell_type": "markdown",
   "metadata": {},
   "source": [
    "Написать функцию, которая на вход принимает DataFrame и количество слов, а возвращает отфильтрованный по количеству слов DataFrame. Условие фильтрации - в новый DataFrame включаются те строки, для которых значение в столбце с количеством слов  ≤  заданного значения."
   ]
  },
  {
   "cell_type": "code",
   "execution_count": 70,
   "metadata": {},
   "outputs": [
    {
     "name": "stdout",
     "output_type": "stream",
     "text": [
      "      star                                               text  len_text\n",
      "1        1  Испытываю ЧУВСТВО НЕНАВИСТИ еще с 90-х когда в...       478\n",
      "2        1  Обман кредитных карт сбербанка\\n\\nДостоинства:...       439\n",
      "3        1  Перестал работать сервис выставления счетов, т...       446\n",
      "6        1  Молчуны, снимут деньги и не заметишь\\n\\nДостои...       383\n",
      "7        1  Политика сбербанка оставила меня без жилья!\\n\\...       399\n",
      "...    ...                                                ...       ...\n",
      "3792     5  Спасибо Сбербанку! Я сама виновата, что сглупи...       430\n",
      "3794     5  Отличный банк с выгодными предложениями!\\n\\nДо...       383\n",
      "3796     5  Отличный банк\\n\\nДостоинства: Удобный сервис, ...       391\n",
      "3797     5  Вернули украденные с карты 27.12.2019 деньги\\n...       404\n",
      "3798     5  Отлично\\n\\nДостоинства: Оперативность\\nНедоста...       364\n",
      "\n",
      "[2178 rows x 3 columns]\n"
     ]
    },
    {
     "data": {
      "text/html": [
       "<div>\n",
       "<style scoped>\n",
       "    .dataframe tbody tr th:only-of-type {\n",
       "        vertical-align: middle;\n",
       "    }\n",
       "\n",
       "    .dataframe tbody tr th {\n",
       "        vertical-align: top;\n",
       "    }\n",
       "\n",
       "    .dataframe thead th {\n",
       "        text-align: right;\n",
       "    }\n",
       "</style>\n",
       "<table border=\"1\" class=\"dataframe\">\n",
       "  <thead>\n",
       "    <tr style=\"text-align: right;\">\n",
       "      <th></th>\n",
       "      <th>star</th>\n",
       "      <th>text</th>\n",
       "      <th>len_text</th>\n",
       "    </tr>\n",
       "  </thead>\n",
       "  <tbody>\n",
       "    <tr>\n",
       "      <th>1</th>\n",
       "      <td>1</td>\n",
       "      <td>Испытываю ЧУВСТВО НЕНАВИСТИ еще с 90-х когда в...</td>\n",
       "      <td>478</td>\n",
       "    </tr>\n",
       "    <tr>\n",
       "      <th>2</th>\n",
       "      <td>1</td>\n",
       "      <td>Обман кредитных карт сбербанка\\n\\nДостоинства:...</td>\n",
       "      <td>439</td>\n",
       "    </tr>\n",
       "    <tr>\n",
       "      <th>3</th>\n",
       "      <td>1</td>\n",
       "      <td>Перестал работать сервис выставления счетов, т...</td>\n",
       "      <td>446</td>\n",
       "    </tr>\n",
       "    <tr>\n",
       "      <th>6</th>\n",
       "      <td>1</td>\n",
       "      <td>Молчуны, снимут деньги и не заметишь\\n\\nДостои...</td>\n",
       "      <td>383</td>\n",
       "    </tr>\n",
       "    <tr>\n",
       "      <th>7</th>\n",
       "      <td>1</td>\n",
       "      <td>Политика сбербанка оставила меня без жилья!\\n\\...</td>\n",
       "      <td>399</td>\n",
       "    </tr>\n",
       "    <tr>\n",
       "      <th>...</th>\n",
       "      <td>...</td>\n",
       "      <td>...</td>\n",
       "      <td>...</td>\n",
       "    </tr>\n",
       "    <tr>\n",
       "      <th>3792</th>\n",
       "      <td>5</td>\n",
       "      <td>Спасибо Сбербанку! Я сама виновата, что сглупи...</td>\n",
       "      <td>430</td>\n",
       "    </tr>\n",
       "    <tr>\n",
       "      <th>3794</th>\n",
       "      <td>5</td>\n",
       "      <td>Отличный банк с выгодными предложениями!\\n\\nДо...</td>\n",
       "      <td>383</td>\n",
       "    </tr>\n",
       "    <tr>\n",
       "      <th>3796</th>\n",
       "      <td>5</td>\n",
       "      <td>Отличный банк\\n\\nДостоинства: Удобный сервис, ...</td>\n",
       "      <td>391</td>\n",
       "    </tr>\n",
       "    <tr>\n",
       "      <th>3797</th>\n",
       "      <td>5</td>\n",
       "      <td>Вернули украденные с карты 27.12.2019 деньги\\n...</td>\n",
       "      <td>404</td>\n",
       "    </tr>\n",
       "    <tr>\n",
       "      <th>3798</th>\n",
       "      <td>5</td>\n",
       "      <td>Отлично\\n\\nДостоинства: Оперативность\\nНедоста...</td>\n",
       "      <td>364</td>\n",
       "    </tr>\n",
       "  </tbody>\n",
       "</table>\n",
       "<p>2178 rows × 3 columns</p>\n",
       "</div>"
      ],
      "text/plain": [
       "      star                                               text  len_text\n",
       "1        1  Испытываю ЧУВСТВО НЕНАВИСТИ еще с 90-х когда в...       478\n",
       "2        1  Обман кредитных карт сбербанка\\n\\nДостоинства:...       439\n",
       "3        1  Перестал работать сервис выставления счетов, т...       446\n",
       "6        1  Молчуны, снимут деньги и не заметишь\\n\\nДостои...       383\n",
       "7        1  Политика сбербанка оставила меня без жилья!\\n\\...       399\n",
       "...    ...                                                ...       ...\n",
       "3792     5  Спасибо Сбербанку! Я сама виновата, что сглупи...       430\n",
       "3794     5  Отличный банк с выгодными предложениями!\\n\\nДо...       383\n",
       "3796     5  Отличный банк\\n\\nДостоинства: Удобный сервис, ...       391\n",
       "3797     5  Вернули украденные с карты 27.12.2019 деньги\\n...       404\n",
       "3798     5  Отлично\\n\\nДостоинства: Оперативность\\nНедоста...       364\n",
       "\n",
       "[2178 rows x 3 columns]"
      ]
     },
     "execution_count": 70,
     "metadata": {},
     "output_type": "execute_result"
    }
   ],
   "source": [
    "def sorted_table(df: pd.DataFrame,count_words: int)->None:\n",
    "    \"\"\"sorted_tabel on width words\"\"\"\n",
    "    df=df[df['len_text'] > count_words][['star', 'text','len_text']]\n",
    "    print(df)\n",
    "    return df\n",
    "\n",
    "sorted_table(df,350)"
   ]
  },
  {
   "cell_type": "markdown",
   "metadata": {},
   "source": [
    "Написать функцию, которая на вход принимает DataFrame и метку класса (например, Количество звезд), а возвращает отфильтрованный по заданной метке DataFrame."
   ]
  },
  {
   "cell_type": "code",
   "execution_count": 71,
   "metadata": {},
   "outputs": [
    {
     "name": "stdout",
     "output_type": "stream",
     "text": [
      "      star                                               text  len_text\n",
      "2800     4  Очень приятный персонал\\n\\nДостоинства: Работа...       354\n",
      "2801     4  Удобное пользование\\n\\nДостоинства: Удобство  ...       341\n",
      "2802     4  Хороший банк\\n\\nДостоинства: Качество\\nНедоста...       315\n",
      "2803     4  Быстрое обслуживание, большое просторное отдел...       450\n",
      "2804     4  Хороший и безопасный банк\\n\\nДостоинства: Бесп...       334\n",
      "...    ...                                                ...       ...\n",
      "3135     4  Лучший банк россии!\\n\\nДостоинства: Гос. Банк ...       278\n",
      "3136     4  Для такого огромного банка безалаберные сотруд...       380\n",
      "3137     4  Не ожидала, что может быть не так, как раньше\\...       368\n",
      "3138     4  Не понимаю систему,по которой они работают.\\n\\...       369\n",
      "3139     4  Надежный перспективный банк.\\n\\nДостоинства: Н...       347\n",
      "\n",
      "[340 rows x 3 columns]\n"
     ]
    },
    {
     "data": {
      "text/html": [
       "<div>\n",
       "<style scoped>\n",
       "    .dataframe tbody tr th:only-of-type {\n",
       "        vertical-align: middle;\n",
       "    }\n",
       "\n",
       "    .dataframe tbody tr th {\n",
       "        vertical-align: top;\n",
       "    }\n",
       "\n",
       "    .dataframe thead th {\n",
       "        text-align: right;\n",
       "    }\n",
       "</style>\n",
       "<table border=\"1\" class=\"dataframe\">\n",
       "  <thead>\n",
       "    <tr style=\"text-align: right;\">\n",
       "      <th></th>\n",
       "      <th>star</th>\n",
       "      <th>text</th>\n",
       "      <th>len_text</th>\n",
       "    </tr>\n",
       "  </thead>\n",
       "  <tbody>\n",
       "    <tr>\n",
       "      <th>2800</th>\n",
       "      <td>4</td>\n",
       "      <td>Очень приятный персонал\\n\\nДостоинства: Работа...</td>\n",
       "      <td>354</td>\n",
       "    </tr>\n",
       "    <tr>\n",
       "      <th>2801</th>\n",
       "      <td>4</td>\n",
       "      <td>Удобное пользование\\n\\nДостоинства: Удобство  ...</td>\n",
       "      <td>341</td>\n",
       "    </tr>\n",
       "    <tr>\n",
       "      <th>2802</th>\n",
       "      <td>4</td>\n",
       "      <td>Хороший банк\\n\\nДостоинства: Качество\\nНедоста...</td>\n",
       "      <td>315</td>\n",
       "    </tr>\n",
       "    <tr>\n",
       "      <th>2803</th>\n",
       "      <td>4</td>\n",
       "      <td>Быстрое обслуживание, большое просторное отдел...</td>\n",
       "      <td>450</td>\n",
       "    </tr>\n",
       "    <tr>\n",
       "      <th>2804</th>\n",
       "      <td>4</td>\n",
       "      <td>Хороший и безопасный банк\\n\\nДостоинства: Бесп...</td>\n",
       "      <td>334</td>\n",
       "    </tr>\n",
       "    <tr>\n",
       "      <th>...</th>\n",
       "      <td>...</td>\n",
       "      <td>...</td>\n",
       "      <td>...</td>\n",
       "    </tr>\n",
       "    <tr>\n",
       "      <th>3135</th>\n",
       "      <td>4</td>\n",
       "      <td>Лучший банк россии!\\n\\nДостоинства: Гос. Банк ...</td>\n",
       "      <td>278</td>\n",
       "    </tr>\n",
       "    <tr>\n",
       "      <th>3136</th>\n",
       "      <td>4</td>\n",
       "      <td>Для такого огромного банка безалаберные сотруд...</td>\n",
       "      <td>380</td>\n",
       "    </tr>\n",
       "    <tr>\n",
       "      <th>3137</th>\n",
       "      <td>4</td>\n",
       "      <td>Не ожидала, что может быть не так, как раньше\\...</td>\n",
       "      <td>368</td>\n",
       "    </tr>\n",
       "    <tr>\n",
       "      <th>3138</th>\n",
       "      <td>4</td>\n",
       "      <td>Не понимаю систему,по которой они работают.\\n\\...</td>\n",
       "      <td>369</td>\n",
       "    </tr>\n",
       "    <tr>\n",
       "      <th>3139</th>\n",
       "      <td>4</td>\n",
       "      <td>Надежный перспективный банк.\\n\\nДостоинства: Н...</td>\n",
       "      <td>347</td>\n",
       "    </tr>\n",
       "  </tbody>\n",
       "</table>\n",
       "<p>340 rows × 3 columns</p>\n",
       "</div>"
      ],
      "text/plain": [
       "      star                                               text  len_text\n",
       "2800     4  Очень приятный персонал\\n\\nДостоинства: Работа...       354\n",
       "2801     4  Удобное пользование\\n\\nДостоинства: Удобство  ...       341\n",
       "2802     4  Хороший банк\\n\\nДостоинства: Качество\\nНедоста...       315\n",
       "2803     4  Быстрое обслуживание, большое просторное отдел...       450\n",
       "2804     4  Хороший и безопасный банк\\n\\nДостоинства: Бесп...       334\n",
       "...    ...                                                ...       ...\n",
       "3135     4  Лучший банк россии!\\n\\nДостоинства: Гос. Банк ...       278\n",
       "3136     4  Для такого огромного банка безалаберные сотруд...       380\n",
       "3137     4  Не ожидала, что может быть не так, как раньше\\...       368\n",
       "3138     4  Не понимаю систему,по которой они работают.\\n\\...       369\n",
       "3139     4  Надежный перспективный банк.\\n\\nДостоинства: Н...       347\n",
       "\n",
       "[340 rows x 3 columns]"
      ]
     },
     "execution_count": 71,
     "metadata": {},
     "output_type": "execute_result"
    }
   ],
   "source": [
    "def table_star(df: pd.DataFrame, number_star: int)->None:\n",
    "    \"\"\"Sorted table\"\"\"\n",
    "    print(df[df['star']==number_star])\n",
    "    return df[df['star']==number_star]\n",
    "\n",
    "    \n",
    "table_star(df,4)"
   ]
  },
  {
   "cell_type": "markdown",
   "metadata": {},
   "source": [
    "Выполнить группировку DataFrame по метке класса с вычислением максимального, минимального и среднего значения по количеству слов."
   ]
  },
  {
   "cell_type": "code",
   "execution_count": 72,
   "metadata": {},
   "outputs": [
    {
     "name": "stdout",
     "output_type": "stream",
     "text": [
      "      star                                               text  len_text\n",
      "2800     4  Очень приятный персонал\\n\\nДостоинства: Работа...       354\n",
      "2801     4  Удобное пользование\\n\\nДостоинства: Удобство  ...       341\n",
      "2802     4  Хороший банк\\n\\nДостоинства: Качество\\nНедоста...       315\n",
      "2803     4  Быстрое обслуживание, большое просторное отдел...       450\n",
      "2804     4  Хороший и безопасный банк\\n\\nДостоинства: Бесп...       334\n",
      "...    ...                                                ...       ...\n",
      "3135     4  Лучший банк россии!\\n\\nДостоинства: Гос. Банк ...       278\n",
      "3136     4  Для такого огромного банка безалаберные сотруд...       380\n",
      "3137     4  Не ожидала, что может быть не так, как раньше\\...       368\n",
      "3138     4  Не понимаю систему,по которой они работают.\\n\\...       369\n",
      "3139     4  Надежный перспективный банк.\\n\\nДостоинства: Н...       347\n",
      "\n",
      "[340 rows x 3 columns]\n",
      "кол-во слов:\n",
      "min: 179\n",
      "mean: 382.5352941176471\n",
      "max: 642\n"
     ]
    }
   ],
   "source": [
    "def table_star_statistic(df: pd.DataFrame, number_star: int) -> None:\n",
    "    \"\"\"print df where star== number_star\"\"\"\n",
    "    df = df[df[\"star\"] == number_star]\n",
    "    print(df)\n",
    "    print(\n",
    "        \"кол-во слов:\\nmin: \"\n",
    "        + str(df[\"len_text\"].min())\n",
    "        + \"\\nmean: \"\n",
    "        + str(df[\"len_text\"].mean())\n",
    "        + \"\\nmax: \"\n",
    "        + str(df[\"len_text\"].max())\n",
    "    )\n",
    "\n",
    "\n",
    "table_star_statistic(df, 4)\n"
   ]
  },
  {
   "cell_type": "markdown",
   "metadata": {},
   "source": [
    "Написать функцию, которая на вход принимает DataFrame и метку класса, а возвращает гистограмму для слов. Для расчета гистограммы необходимо будет разбить блоки текста на слова и выполнить процедуру лемматизации для каждого слова (используя библиотеку nltk)."
   ]
  },
  {
   "cell_type": "code",
   "execution_count": 73,
   "metadata": {},
   "outputs": [
    {
     "name": "stdout",
     "output_type": "stream",
     "text": [
      "Обрабатываем кол-во слов\n"
     ]
    },
    {
     "name": "stderr",
     "output_type": "stream",
     "text": [
      "100%|██████████| 340/340 [00:13<00:00, 25.88it/s]\n"
     ]
    }
   ],
   "source": [
    "def create_hist(df: pd.DataFrame, number_star: int) -> list:\n",
    "    \"\"\"Lemitization and counter words\"\"\"\n",
    "    words = []  # для леминитизированных слов\n",
    "    lonely_words_count = []  # для подсчета вхождений каждого слова\n",
    "    morph = pymorphy2.MorphAnalyzer()\n",
    "    print(\"Обрабатываем кол-во слов\")\n",
    "    for i in trange(len(df[df[\"star\"] == number_star])):\n",
    "        words_list = (df.text[i]).split()  # разбиваем текст на слова\n",
    "        for word in words_list:\n",
    "            p = morph.parse(word)[0]\n",
    "            words.append(p.normal_form)\n",
    "\n",
    "    lonely_words = list(set(words))  # слова без повторений\n",
    "    for element in lonely_words:\n",
    "        lonely_words_count.append(words.count(element))\n",
    "    book = dict(zip(lonely_words_count, lonely_words))\n",
    "    return sorted(book.items())  # вернем остортированный  словарь\n",
    "\n",
    "\n",
    "hist_info = create_hist(df, 4)"
   ]
  },
  {
   "cell_type": "markdown",
   "metadata": {},
   "source": [
    "Выполнить визуализацию гистограммы, полученной из пункта 9, с помощью средств библиотеки matplotlib. Соответствующие оси, графики и значения необходимо подписать."
   ]
  },
  {
   "cell_type": "code",
   "execution_count": 74,
   "metadata": {},
   "outputs": [
    {
     "data": {
      "image/png": "[encoded data removed]",
      "text/plain": [
       "<Figure size 640x480 with 1 Axes>"
      ]
     },
     "metadata": {},
     "output_type": "display_data"
    }
   ],
   "source": [
    "def print_histogram(hist_info: dict) -> None:\n",
    "    \"\"\"print histogram on based dict\"\"\"\n",
    "    plt.ylabel(\"Используемое количество\")\n",
    "    plt.xlabel(\"слово\")\n",
    "    plt.title(\"Популярность слов:\")\n",
    "    plt.grid(True)\n",
    "    plt.bar(hist_info.values(), hist_info.keys())\n",
    "    plt.show()\n",
    "\n",
    "\n",
    "print_histogram(\n",
    "    dict(hist_info[-3:])\n",
    ")  # выведем топ 3 часто используемых слова. Можно убрать срез, но пожалейте мой пк и меня с двухчасовым ожиданием :)\n"
   ]
  }
 ],
 "metadata": {
  "kernelspec": {
   "display_name": "Python 3.10.7 64-bit",
   "language": "python",
   "name": "python3"
  },
  "language_info": {
   "codemirror_mode": {
    "name": "ipython",
    "version": 3
   },
   "file_extension": ".py",
   "mimetype": "text/x-python",
   "name": "python",
   "nbconvert_exporter": "python",
   "pygments_lexer": "ipython3",
   "version": "3.10.7"
  },
  "orig_nbformat": 4,
  "vscode": {
   "interpreter": {
    "hash": "e7370f93d1d0cde622a1f8e1c04877d8463912d04d973331ad4851f04de6915a"
   }
  }
 },
 "nbformat": 4,
 "nbformat_minor": 2
}
