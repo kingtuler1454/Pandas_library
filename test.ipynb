{
 "cells": [
  {
   "cell_type": "code",
   "execution_count": 8,
   "metadata": {},
   "outputs": [],
   "source": [
    "import pandas as pd\n",
    "from tqdm import trange\n",
    "import pymorphy2\n",
    "import matplotlib.pyplot as plt\n",
    "\n",
    "import iterator"
   ]
  },
  {
   "cell_type": "markdown",
   "metadata": {},
   "source": [
    "С использованием средств библиотеки Pandas прочитать все данные (в DataFrame будет несколько столбцов, в зависимости от варианта, например, у варианта 10 - Количество звезд, Текст рецензии)."
   ]
  },
  {
   "cell_type": "code",
   "execution_count": 13,
   "metadata": {},
   "outputs": [
    {
     "name": "stderr",
     "output_type": "stream",
     "text": [
      "100%|██████████| 1840/1840 [00:41<00:00, 44.86it/s]\n",
      "100%|██████████| 540/540 [00:09<00:00, 56.82it/s]\n",
      "100%|██████████| 420/420 [00:06<00:00, 67.91it/s]\n",
      "100%|██████████| 340/340 [00:05<00:00, 66.74it/s]\n",
      "100%|██████████| 660/660 [00:11<00:00, 59.19it/s]\n"
     ]
    }
   ],
   "source": [
    "def create_table()-> pd.DataFrame:\n",
    "    \"\"\"create a df\"\"\"\n",
    "    number_star = []\n",
    "    text_opinion = []\n",
    "    for i in range(1,6):\n",
    "        iterator_work = iterator.Iterator(\"classmates1.csv\", i)\n",
    "        for j in trange(len(iterator.Iterator(\"classmates1.csv\", i).list)):\n",
    "            number_star.append(i)\n",
    "            text_opinion.append(read_file(iterator.Iterator(\"classmates1.csv\", i).list[j]))\n",
    "    df = pd.DataFrame({\n",
    "    'star': number_star,\n",
    "    'text': text_opinion})\n",
    "    return df\n",
    "\n",
    "def read_file(elem: str)->str:\n",
    "    \"\"\"\"reading a data from csv\"\"\"\n",
    "    if elem != \"['Абсолютный путь к файлу,Относительный путь к файлу,номер звезды']\":\n",
    "        directory = str(elem).split(\",\")\n",
    "        #print(len(directory))\n",
    "        if len(directory) == 3:\n",
    "            with open(directory[1], \"r\") as f:\n",
    "                text = f.read()\n",
    "            \n",
    "            return text     \n",
    "    return None\n",
    "\n",
    "if __name__==\"__main__\":\n",
    "    df = create_table()\n",
    "    df"
   ]
  },
  {
   "cell_type": "markdown",
   "metadata": {},
   "source": [
    "Произвести проверку на наличие невалидных значений в колонках (NaN, None и т.п.). В случае нахождения выполнить обработку таких значений."
   ]
  },
  {
   "cell_type": "code",
   "execution_count": 11,
   "metadata": {},
   "outputs": [],
   "source": [
    "def check_table(df:pd.DataFrame)->None:\n",
    "    \"\"\"check table to correct value\"\"\"\n",
    "    print(\"checking\")\n",
    "    df.dropna()\n",
    "    df\n",
    "\n",
    "check_table(df)"
   ]
  }
 ],
 "metadata": {
  "kernelspec": {
   "display_name": "Python 3.10.7 64-bit",
   "language": "python",
   "name": "python3"
  },
  "language_info": {
   "codemirror_mode": {
    "name": "ipython",
    "version": 3
   },
   "file_extension": ".py",
   "mimetype": "text/x-python",
   "name": "python",
   "nbconvert_exporter": "python",
   "pygments_lexer": "ipython3",
   "version": "3.10.7"
  },
  "orig_nbformat": 4,
  "vscode": {
   "interpreter": {
    "hash": "e7370f93d1d0cde622a1f8e1c04877d8463912d04d973331ad4851f04de6915a"
   }
  }
 },
 "nbformat": 4,
 "nbformat_minor": 2
}
