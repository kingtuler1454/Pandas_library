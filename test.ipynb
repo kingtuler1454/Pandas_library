{
 "cells": [
  {
   "cell_type": "code",
   "execution_count": 2,
   "metadata": {},
   "outputs": [],
   "source": [
    "import pandas as pd\n",
    "from tqdm import trange\n",
    "import pymorphy2\n",
    "import matplotlib.pyplot as plt\n",
    "\n",
    "import iterator"
   ]
  },
  {
   "cell_type": "markdown",
   "metadata": {},
   "source": [
    "С использованием средств библиотеки Pandas прочитать все данные (в DataFrame будет несколько столбцов, в зависимости от варианта, например, у варианта 10 - Количество звезд, Текст рецензии)."
   ]
  },
  {
   "cell_type": "code",
   "execution_count": 14,
   "metadata": {},
   "outputs": [
    {
     "name": "stderr",
     "output_type": "stream",
     "text": [
      "100%|██████████| 1840/1840 [00:42<00:00, 43.44it/s]\n",
      "100%|██████████| 540/540 [00:12<00:00, 44.73it/s]\n",
      "100%|██████████| 420/420 [00:07<00:00, 57.37it/s]\n",
      "100%|██████████| 340/340 [00:05<00:00, 57.65it/s]\n",
      "100%|██████████| 660/660 [00:11<00:00, 56.43it/s]\n"
     ]
    }
   ],
   "source": [
    "def create_table()-> pd.DataFrame:\n",
    "    \"\"\"create a df\"\"\"\n",
    "    number_star = []\n",
    "    text_opinion = []\n",
    "    for i in range(1,6):\n",
    "        iterator_work = iterator.Iterator(\"classmates1.csv\", i)\n",
    "        for j in trange(len(iterator.Iterator(\"classmates1.csv\", i).list)):\n",
    "            number_star.append(i)\n",
    "            text_opinion.append(read_file(iterator.Iterator(\"classmates1.csv\", i).list[j]))\n",
    "    df = pd.DataFrame({\n",
    "    'star': number_star,\n",
    "    'text': text_opinion})\n",
    "    return df\n",
    "\n",
    "\n",
    "def read_file(elem: str)->str:\n",
    "    \"\"\"\"reading a data from csv\"\"\"\n",
    "    if elem != \"['Абсолютный путь к файлу,Относительный путь к файлу,номер звезды']\":\n",
    "        directory = str(elem).split(\",\")\n",
    "        #print(len(directory))\n",
    "        if len(directory) == 3:\n",
    "            with open(directory[1], \"r\") as f:\n",
    "                text = f.read()\n",
    "            \n",
    "            return text     \n",
    "    return None\n",
    "\n",
    "\n",
    "df=create_table()"
   ]
  },
  {
   "cell_type": "markdown",
   "metadata": {},
   "source": [
    "Произвести проверку на наличие невалидных значений в колонках (NaN, None и т.п.). В случае нахождения выполнить обработку таких значений."
   ]
  },
  {
   "cell_type": "code",
   "execution_count": 4,
   "metadata": {},
   "outputs": [
    {
     "name": "stdout",
     "output_type": "stream",
     "text": [
      "checking\n",
      "<class 'pandas.core.frame.DataFrame'>\n",
      "Int64Index: 3800 entries, 0 to 3799\n",
      "Data columns (total 2 columns):\n",
      " #   Column  Non-Null Count  Dtype \n",
      "---  ------  --------------  ----- \n",
      " 0   star    3800 non-null   int64 \n",
      " 1   text    3800 non-null   object\n",
      "dtypes: int64(1), object(1)\n",
      "memory usage: 89.1+ KB\n",
      "None\n"
     ]
    }
   ],
   "source": [
    "def check_table(df:pd.DataFrame)->None:\n",
    "    \"\"\"check table to correct value\"\"\"\n",
    "    print(\"checking\")\n",
    "    df=df.dropna()\n",
    "    print(df.info())\n",
    "    return df\n",
    "df=check_table(df)\n"
   ]
  },
  {
   "cell_type": "markdown",
   "metadata": {},
   "source": [
    "Добавить в DataFrame столбец, который будет содержать информацию о кол-ве слов в ячейке, содержащей текстовую информацию."
   ]
  },
  {
   "cell_type": "code",
   "execution_count": 5,
   "metadata": {},
   "outputs": [
    {
     "name": "stdout",
     "output_type": "stream",
     "text": [
      "add_column\n"
     ]
    },
    {
     "name": "stderr",
     "output_type": "stream",
     "text": [
      "100%|██████████| 3800/3800 [00:00<00:00, 17186.84it/s]\n"
     ]
    }
   ],
   "source": [
    "def add_column(df)-> pd.DataFrame:\n",
    "    \"\"\"add_column in df \"\"\"\n",
    "    print(\"add_column\")\n",
    "    number_symbols_text = []\n",
    "    for i in trange(len(df)):\n",
    "        number_symbols_text.append(len(df.text[i]))\n",
    "\n",
    "    df.insert(2, \"len_text\", number_symbols_text, False)\n",
    "    return df\n",
    "df=add_column(df)"
   ]
  },
  {
   "cell_type": "markdown",
   "metadata": {},
   "source": [
    "С использованием Pandas вычислить статистическую информацию для столбцов, содержащих числовую информацию."
   ]
  },
  {
   "cell_type": "code",
   "execution_count": 78,
   "metadata": {},
   "outputs": [
    {
     "name": "stdout",
     "output_type": "stream",
     "text": [
      "              star     len_text\n",
      "count  3800.000000  3800.000000\n",
      "mean      2.326316   370.025263\n",
      "std       1.552399    71.258062\n",
      "min       1.000000   157.000000\n",
      "25%       1.000000   325.000000\n",
      "50%       2.000000   361.000000\n",
      "75%       4.000000   406.000000\n",
      "max       5.000000   844.000000\n"
     ]
    }
   ],
   "source": [
    "def statistic(df: pd.DataFrame)-> None:\n",
    "    \"\"\"statistic in star\"\"\"\n",
    "    print(df.describe())\n",
    "\n",
    "statistic(df)"
   ]
  },
  {
   "cell_type": "markdown",
   "metadata": {},
   "source": [
    "Написать функцию, которая на вход принимает DataFrame и количество слов, а возвращает отфильтрованный по количеству слов DataFrame. Условие фильтрации - в новый DataFrame включаются те строки, для которых значение в столбце с количеством слов  ≤  заданного значения."
   ]
  },
  {
   "cell_type": "code",
   "execution_count": 6,
   "metadata": {},
   "outputs": [
    {
     "name": "stdout",
     "output_type": "stream",
     "text": [
      "      star                                               text  len_text\n",
      "1        1  Испытываю ЧУВСТВО НЕНАВИСТИ еще с 90-х когда в...       478\n",
      "2        1  Обман кредитных карт сбербанка\\n\\nДостоинства:...       439\n",
      "3        1  Перестал работать сервис выставления счетов, т...       446\n",
      "6        1  Молчуны, снимут деньги и не заметишь\\n\\nДостои...       383\n",
      "7        1  Политика сбербанка оставила меня без жилья!\\n\\...       399\n",
      "...    ...                                                ...       ...\n",
      "3792     5  Спасибо Сбербанку! Я сама виновата, что сглупи...       430\n",
      "3794     5  Отличный банк с выгодными предложениями!\\n\\nДо...       383\n",
      "3796     5  Отличный банк\\n\\nДостоинства: Удобный сервис, ...       391\n",
      "3797     5  Вернули украденные с карты 27.12.2019 деньги\\n...       404\n",
      "3798     5  Отлично\\n\\nДостоинства: Оперативность\\nНедоста...       364\n",
      "\n",
      "[2178 rows x 3 columns]\n"
     ]
    }
   ],
   "source": [
    "def sorted_table(df: pd.DataFrame,count_words: int)->None:\n",
    "    \"\"\"sorted_tabel on width words\"\"\"\n",
    "    df=df[df['len_text'] > count_words][['star', 'text','len_text']]\n",
    "    print(df)\n",
    "    return df\n",
    "\n",
    "df=sorted_table(df,350)"
   ]
  },
  {
   "cell_type": "markdown",
   "metadata": {},
   "source": [
    "Написать функцию, которая на вход принимает DataFrame и метку класса (например, Количество звезд), а возвращает отфильтрованный по заданной метке DataFrame."
   ]
  },
  {
   "cell_type": "code",
   "execution_count": 8,
   "metadata": {},
   "outputs": [
    {
     "name": "stdout",
     "output_type": "stream",
     "text": [
      "      star                                               text  len_text\n",
      "2800     4  Очень приятный персонал\\n\\nДостоинства: Работа...       354\n",
      "2803     4  Быстрое обслуживание, большое просторное отдел...       450\n",
      "2805     4  Почему я выбираю Сбербанк уже 10 лет\\n\\nДостои...       459\n",
      "2806     4  Неплохо, но и не отлично\\n\\nДостоинства: Хорош...       382\n",
      "2807     4  Не плохо\\n\\nДостоинства: Относительно не больш...       365\n",
      "...    ...                                                ...       ...\n",
      "3132     4  Ремонт не избавил от очередей.\\n\\nДостоинства:...       372\n",
      "3133     4  Сбербанк  улучшил качество обслуживания клиент...       433\n",
      "3136     4  Для такого огромного банка безалаберные сотруд...       380\n",
      "3137     4  Не ожидала, что может быть не так, как раньше\\...       368\n",
      "3138     4  Не понимаю систему,по которой они работают.\\n\\...       369\n",
      "\n",
      "[226 rows x 3 columns]\n"
     ]
    }
   ],
   "source": [
    "def table_star(df: pd.DataFrame, number_star: int)->None:\n",
    "    \"\"\"Sorted table\"\"\"\n",
    "    print(df[df['star']==number_star])\n",
    "    return df[df['star']==number_star]\n",
    "\n",
    "    \n",
    "df=table_star(df,4)"
   ]
  },
  {
   "cell_type": "markdown",
   "metadata": {},
   "source": [
    "Выполнить группировку DataFrame по метке класса с вычислением максимального, минимального и среднего значения по количеству слов."
   ]
  },
  {
   "cell_type": "code",
   "execution_count": 9,
   "metadata": {},
   "outputs": [
    {
     "name": "stdout",
     "output_type": "stream",
     "text": [
      "      star                                               text  len_text\n",
      "2800     4  Очень приятный персонал\\n\\nДостоинства: Работа...       354\n",
      "2803     4  Быстрое обслуживание, большое просторное отдел...       450\n",
      "2805     4  Почему я выбираю Сбербанк уже 10 лет\\n\\nДостои...       459\n",
      "2806     4  Неплохо, но и не отлично\\n\\nДостоинства: Хорош...       382\n",
      "2807     4  Не плохо\\n\\nДостоинства: Относительно не больш...       365\n",
      "...    ...                                                ...       ...\n",
      "3132     4  Ремонт не избавил от очередей.\\n\\nДостоинства:...       372\n",
      "3133     4  Сбербанк  улучшил качество обслуживания клиент...       433\n",
      "3136     4  Для такого огромного банка безалаберные сотруд...       380\n",
      "3137     4  Не ожидала, что может быть не так, как раньше\\...       368\n",
      "3138     4  Не понимаю систему,по которой они работают.\\n\\...       369\n",
      "\n",
      "[226 rows x 3 columns]\n",
      "кол-во слов:\n",
      "min: 351\n",
      "mean: 417.8893805309734\n",
      "max: 642\n"
     ]
    }
   ],
   "source": [
    "def table_star_statistic(df: pd.DataFrame, number_star: int)-> None:\n",
    "    \"\"\"print df where star== number_star\"\"\"\n",
    "    df=df[df['star']==number_star]\n",
    "    print(df)\n",
    "    print(\"кол-во слов:\\nmin: \" + str(df[\"len_text\"].min()) + \"\\nmean: \" + str(df[\"len_text\"].mean()) \n",
    "    + \"\\nmax: \" + str(df[\"len_text\"].max()) )\n",
    "\n",
    "table_star_statistic(df,4)"
   ]
  },
  {
   "cell_type": "markdown",
   "metadata": {},
   "source": [
    "Написать функцию, которая на вход принимает DataFrame и метку класса, а возвращает гистограмму для слов. Для расчета гистограммы необходимо будет разбить блоки текста на слова и выполнить процедуру лемматизации для каждого слова (используя библиотеку nltk)."
   ]
  },
  {
   "cell_type": "code",
   "execution_count": 16,
   "metadata": {},
   "outputs": [
    {
     "name": "stdout",
     "output_type": "stream",
     "text": [
      "Обрабатываем кол-во слов\n"
     ]
    },
    {
     "name": "stderr",
     "output_type": "stream",
     "text": [
      "  0%|          | 0/3800 [00:11<?, ?it/s]\n"
     ]
    },
    {
     "ename": "KeyboardInterrupt",
     "evalue": "",
     "output_type": "error",
     "traceback": [
      "\u001b[0;31m---------------------------------------------------------------------------\u001b[0m",
      "\u001b[0;31mKeyboardInterrupt\u001b[0m                         Traceback (most recent call last)",
      "Cell \u001b[0;32mIn [16], line 16\u001b[0m\n\u001b[1;32m     13\u001b[0m     \u001b[39mprint\u001b[39m(lonely_words)    \n\u001b[1;32m     14\u001b[0m     \u001b[39m#return words\u001b[39;00m\n\u001b[0;32m---> 16\u001b[0m create_hist(df)\n",
      "Cell \u001b[0;32mIn [16], line 10\u001b[0m, in \u001b[0;36mcreate_hist\u001b[0;34m(df)\u001b[0m\n\u001b[1;32m      8\u001b[0m     words \u001b[39m=\u001b[39m df\u001b[39m.\u001b[39mtext[i]\u001b[39m.\u001b[39msplit() \u001b[39m# разбиваем текст на слова\u001b[39;00m\n\u001b[1;32m      9\u001b[0m     \u001b[39mfor\u001b[39;00m word \u001b[39min\u001b[39;00m words:\n\u001b[0;32m---> 10\u001b[0m         p \u001b[39m=\u001b[39m morph\u001b[39m.\u001b[39;49mparse(word)[\u001b[39m0\u001b[39m]\n\u001b[1;32m     11\u001b[0m         words\u001b[39m.\u001b[39mappend(p\u001b[39m.\u001b[39mnormal_form)\n\u001b[1;32m     12\u001b[0m lonely_words\u001b[39m=\u001b[39m\u001b[39mlist\u001b[39m(\u001b[39mset\u001b[39m(words))\n",
      "File \u001b[0;32m~/.local/lib/python3.10/site-packages/pymorphy2/analyzer.py:321\u001b[0m, in \u001b[0;36mMorphAnalyzer.parse\u001b[0;34m(self, word)\u001b[0m\n\u001b[1;32m    318\u001b[0m         \u001b[39mbreak\u001b[39;00m\n\u001b[1;32m    320\u001b[0m \u001b[39mif\u001b[39;00m \u001b[39mself\u001b[39m\u001b[39m.\u001b[39mprob_estimator \u001b[39mis\u001b[39;00m \u001b[39mnot\u001b[39;00m \u001b[39mNone\u001b[39;00m:\n\u001b[0;32m--> 321\u001b[0m     res \u001b[39m=\u001b[39m \u001b[39mself\u001b[39;49m\u001b[39m.\u001b[39;49mprob_estimator\u001b[39m.\u001b[39;49mapply_to_parses(word, word_lower, res)\n\u001b[1;32m    323\u001b[0m \u001b[39mif\u001b[39;00m \u001b[39mself\u001b[39m\u001b[39m.\u001b[39m_result_type \u001b[39mis\u001b[39;00m \u001b[39mNone\u001b[39;00m:\n\u001b[1;32m    324\u001b[0m     \u001b[39mreturn\u001b[39;00m res\n",
      "File \u001b[0;32m~/.local/lib/python3.10/site-packages/pymorphy2/analyzer.py:77\u001b[0m, in \u001b[0;36mProbabilityEstimator.apply_to_parses\u001b[0;34m(self, word, word_lower, parses)\u001b[0m\n\u001b[1;32m     74\u001b[0m \u001b[39mif\u001b[39;00m \u001b[39mnot\u001b[39;00m parses:\n\u001b[1;32m     75\u001b[0m     \u001b[39mreturn\u001b[39;00m parses\n\u001b[0;32m---> 77\u001b[0m probs \u001b[39m=\u001b[39m [\u001b[39mself\u001b[39m\u001b[39m.\u001b[39mp_t_given_w\u001b[39m.\u001b[39mprob(word_lower, tag)\n\u001b[1;32m     78\u001b[0m         \u001b[39mfor\u001b[39;00m (word, tag, normal_form, score, methods_stack) \u001b[39min\u001b[39;00m parses]\n\u001b[1;32m     80\u001b[0m \u001b[39mif\u001b[39;00m \u001b[39msum\u001b[39m(probs) \u001b[39m==\u001b[39m \u001b[39m0\u001b[39m:\n\u001b[1;32m     81\u001b[0m     \u001b[39m# no P(t|w) information is available; return normalized estimate\u001b[39;00m\n\u001b[1;32m     82\u001b[0m     k \u001b[39m=\u001b[39m \u001b[39m1.0\u001b[39m \u001b[39m/\u001b[39m \u001b[39msum\u001b[39m(\u001b[39mmap\u001b[39m(_score_getter, parses))\n",
      "File \u001b[0;32m~/.local/lib/python3.10/site-packages/pymorphy2/analyzer.py:77\u001b[0m, in \u001b[0;36m<listcomp>\u001b[0;34m(.0)\u001b[0m\n\u001b[1;32m     74\u001b[0m \u001b[39mif\u001b[39;00m \u001b[39mnot\u001b[39;00m parses:\n\u001b[1;32m     75\u001b[0m     \u001b[39mreturn\u001b[39;00m parses\n\u001b[0;32m---> 77\u001b[0m probs \u001b[39m=\u001b[39m [\u001b[39mself\u001b[39;49m\u001b[39m.\u001b[39;49mp_t_given_w\u001b[39m.\u001b[39;49mprob(word_lower, tag)\n\u001b[1;32m     78\u001b[0m         \u001b[39mfor\u001b[39;00m (word, tag, normal_form, score, methods_stack) \u001b[39min\u001b[39;00m parses]\n\u001b[1;32m     80\u001b[0m \u001b[39mif\u001b[39;00m \u001b[39msum\u001b[39m(probs) \u001b[39m==\u001b[39m \u001b[39m0\u001b[39m:\n\u001b[1;32m     81\u001b[0m     \u001b[39m# no P(t|w) information is available; return normalized estimate\u001b[39;00m\n\u001b[1;32m     82\u001b[0m     k \u001b[39m=\u001b[39m \u001b[39m1.0\u001b[39m \u001b[39m/\u001b[39m \u001b[39msum\u001b[39m(\u001b[39mmap\u001b[39m(_score_getter, parses))\n",
      "File \u001b[0;32m~/.local/lib/python3.10/site-packages/pymorphy2/dawg.py:66\u001b[0m, in \u001b[0;36mConditionalProbDistDAWG.prob\u001b[0;34m(self, word, tag)\u001b[0m\n\u001b[1;32m     64\u001b[0m \u001b[39mdef\u001b[39;00m \u001b[39mprob\u001b[39m(\u001b[39mself\u001b[39m, word, tag):\n\u001b[1;32m     65\u001b[0m     dawg_key \u001b[39m=\u001b[39m \u001b[39m\"\u001b[39m\u001b[39m%s\u001b[39;00m\u001b[39m:\u001b[39m\u001b[39m%s\u001b[39;00m\u001b[39m\"\u001b[39m \u001b[39m%\u001b[39m (word, tag)\n\u001b[0;32m---> 66\u001b[0m     \u001b[39mreturn\u001b[39;00m \u001b[39mself\u001b[39;49m\u001b[39m.\u001b[39;49mget(dawg_key, \u001b[39m0\u001b[39;49m) \u001b[39m/\u001b[39m \u001b[39mself\u001b[39m\u001b[39m.\u001b[39mMULTIPLIER\n",
      "File \u001b[0;32m~/.local/lib/python3.10/site-packages/dawg_python/dawgs.py:447\u001b[0m, in \u001b[0;36mIntDAWG.get\u001b[0;34m(self, key, default)\u001b[0m\n\u001b[1;32m    444\u001b[0m         \u001b[39mraise\u001b[39;00m \u001b[39mKeyError\u001b[39;00m(key)\n\u001b[1;32m    445\u001b[0m     \u001b[39mreturn\u001b[39;00m res\n\u001b[0;32m--> 447\u001b[0m \u001b[39mdef\u001b[39;00m \u001b[39mget\u001b[39m(\u001b[39mself\u001b[39m, key, default\u001b[39m=\u001b[39m\u001b[39mNone\u001b[39;00m):\n\u001b[1;32m    448\u001b[0m     \u001b[39m\"\"\"\u001b[39;00m\n\u001b[1;32m    449\u001b[0m \u001b[39m    Return value for the given key or ``default`` if the key is not found.\u001b[39;00m\n\u001b[1;32m    450\u001b[0m \u001b[39m    \"\"\"\u001b[39;00m\n\u001b[1;32m    451\u001b[0m     \u001b[39mif\u001b[39;00m \u001b[39mnot\u001b[39;00m \u001b[39misinstance\u001b[39m(key, \u001b[39mbytes\u001b[39m):\n",
      "\u001b[0;31mKeyboardInterrupt\u001b[0m: "
     ]
    }
   ],
   "source": [
    "def create_hist(df : pd.DataFrame)-> list:\n",
    "    \"\"\"Lemitization and counter words\"\"\"\n",
    "    #df=df[df['star']==number_star]\n",
    "    words = []\n",
    "    morph = pymorphy2.MorphAnalyzer()\n",
    "    print(\"Обрабатываем кол-во слов\")\n",
    "    for i in trange(len(df['text'])):\n",
    "        words = df.text[i].split() # разбиваем текст на слова\n",
    "        for word in words:\n",
    "            p = morph.parse(word)[0]\n",
    "            words.append(p.normal_form)\n",
    "    lonely_words=list(set(words))\n",
    "    print(lonely_words)    \n",
    "    #return words\n",
    "\n",
    "create_hist(df)"
   ]
  },
  {
   "cell_type": "markdown",
   "metadata": {},
   "source": [
    "Выполнить визуализацию гистограммы, полученной из пункта 9, с помощью средств библиотеки matplotlib. Соответствующие оси, графики и значения необходимо подписать."
   ]
  },
  {
   "cell_type": "code",
   "execution_count": 69,
   "metadata": {},
   "outputs": [
    {
     "data": {
      "image/png": "[encoded data removed]",
      "text/plain": [
       "<Figure size 640x480 with 1 Axes>"
      ]
     },
     "metadata": {},
     "output_type": "display_data"
    }
   ],
   "source": [
    "def print_histogram(len_words: list)->None:\n",
    "    \"\"\"print histogram on based list\"\"\"\n",
    "    len_words.insert(0,0)\n",
    "    plt.plot(range(21),len_words,'vr')\n",
    "    plt.ylabel('Количество слов')\n",
    "    plt.xlabel('Длина слова')\n",
    "    plt.title('Длина слов:')\n",
    "    plt.grid(True)\n",
    "    plt.xticks(range(1,20))\n",
    "    plt.xlim(0)\n",
    "    plt.ylim(0)\n",
    "    plt.show()\n",
    "\n",
    "print_histogram(len_words)"
   ]
  }
 ],
 "metadata": {
  "kernelspec": {
   "display_name": "Python 3.10.7 64-bit",
   "language": "python",
   "name": "python3"
  },
  "language_info": {
   "codemirror_mode": {
    "name": "ipython",
    "version": 3
   },
   "file_extension": ".py",
   "mimetype": "text/x-python",
   "name": "python",
   "nbconvert_exporter": "python",
   "pygments_lexer": "ipython3",
   "version": "3.10.7"
  },
  "orig_nbformat": 4,
  "vscode": {
   "interpreter": {
    "hash": "e7370f93d1d0cde622a1f8e1c04877d8463912d04d973331ad4851f04de6915a"
   }
  }
 },
 "nbformat": 4,
 "nbformat_minor": 2
}
